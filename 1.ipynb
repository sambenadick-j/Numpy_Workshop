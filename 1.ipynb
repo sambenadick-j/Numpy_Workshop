{
 "cells": [
  {
   "cell_type": "code",
   "execution_count": null,
   "metadata": {},
   "outputs": [],
   "source": []
  },
  {
   "cell_type": "markdown",
   "metadata": {},
   "source": [
    "1 - ctrl j for terminal\n",
    "\n",
    "2 - https://youtube.com/shorts/nMJBbH7g1M4?feature=shared\n",
    "https://vscode.dev/github/sambenadick-j/Numpy_workshop\n",
    "\n",
    "credential Manager\n",
    "\n",
    "https://github.com/sambenadick-j/Numpy_Workshop/actions\n"
   ]
  },
  {
   "cell_type": "markdown",
   "metadata": {},
   "source": []
  }
 ],
 "metadata": {
  "kernelspec": {
   "display_name": "Python 3",
   "language": "python",
   "name": "python3"
  },
  "language_info": {
   "codemirror_mode": {
    "name": "ipython",
    "version": 3
   },
   "file_extension": ".py",
   "mimetype": "text/x-python",
   "name": "python",
   "nbconvert_exporter": "python",
   "pygments_lexer": "ipython3",
   "version": "3.12.3"
  }
 },
 "nbformat": 4,
 "nbformat_minor": 2
}
